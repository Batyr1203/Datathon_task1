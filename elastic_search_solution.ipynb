{
 "cells": [
  {
   "cell_type": "code",
   "execution_count": 1,
   "id": "670a27e7",
   "metadata": {},
   "outputs": [],
   "source": [
    "from elasticsearch import Elasticsearch\n",
    "from elasticsearch.helpers import bulk, parallel_bulk\n",
    "import pandas as pd\n",
    "import numpy as np\n",
    "from tqdm import tqdm\n"
   ]
  },
  {
   "cell_type": "code",
   "execution_count": 2,
   "id": "e50e0287",
   "metadata": {},
   "outputs": [],
   "source": [
    "es = Elasticsearch(\"http://localhost:9200\")\n"
   ]
  },
  {
   "cell_type": "code",
   "execution_count": 3,
   "id": "e1255e40",
   "metadata": {},
   "outputs": [],
   "source": [
    "df = pd.read_csv('df.csv')\n"
   ]
  },
  {
   "cell_type": "code",
   "execution_count": 4,
   "id": "7a9543d0",
   "metadata": {},
   "outputs": [
    {
     "data": {
      "text/html": [
       "<div>\n",
       "<style scoped>\n",
       "    .dataframe tbody tr th:only-of-type {\n",
       "        vertical-align: middle;\n",
       "    }\n",
       "\n",
       "    .dataframe tbody tr th {\n",
       "        vertical-align: top;\n",
       "    }\n",
       "\n",
       "    .dataframe thead th {\n",
       "        text-align: right;\n",
       "    }\n",
       "</style>\n",
       "<table border=\"1\" class=\"dataframe\">\n",
       "  <thead>\n",
       "    <tr style=\"text-align: right;\">\n",
       "      <th></th>\n",
       "      <th>Unnamed: 0</th>\n",
       "      <th>id</th>\n",
       "      <th>sys_lang</th>\n",
       "      <th>url</th>\n",
       "      <th>text1</th>\n",
       "      <th>text2</th>\n",
       "    </tr>\n",
       "  </thead>\n",
       "  <tbody>\n",
       "    <tr>\n",
       "      <th>0</th>\n",
       "      <td>0</td>\n",
       "      <td>3087</td>\n",
       "      <td>en</td>\n",
       "      <td>https://beta2.egov.kz/services/3087?lang=en</td>\n",
       "      <td>rules for providing state services dear citize...</td>\n",
       "      <td>issuance of passports, identification cards fo...</td>\n",
       "    </tr>\n",
       "    <tr>\n",
       "      <th>1</th>\n",
       "      <td>1</td>\n",
       "      <td>3081</td>\n",
       "      <td>en</td>\n",
       "      <td>https://beta2.egov.kz/services/3081?lang=en</td>\n",
       "      <td>rules for providing state services information...</td>\n",
       "      <td>acceptance of documents for issuance of passpo...</td>\n",
       "    </tr>\n",
       "    <tr>\n",
       "      <th>2</th>\n",
       "      <td>5</td>\n",
       "      <td>3263</td>\n",
       "      <td>en</td>\n",
       "      <td>https://beta2.egov.kz/services/3263?lang=en</td>\n",
       "      <td>rules for providing state services information...</td>\n",
       "      <td>obtaining a certificate on the status of the i...</td>\n",
       "    </tr>\n",
       "    <tr>\n",
       "      <th>3</th>\n",
       "      <td>6</td>\n",
       "      <td>3040</td>\n",
       "      <td>en</td>\n",
       "      <td>https://beta2.egov.kz/services/3040?lang=en</td>\n",
       "      <td>rules for providing state services dear citize...</td>\n",
       "      <td>removal from registration at the place of resi...</td>\n",
       "    </tr>\n",
       "    <tr>\n",
       "      <th>4</th>\n",
       "      <td>7</td>\n",
       "      <td>3759</td>\n",
       "      <td>en</td>\n",
       "      <td>https://beta2.egov.kz/services/3759?lang=en</td>\n",
       "      <td>rules for providing state service what is temp...</td>\n",
       "      <td>issuance of a list on temporary work incapacit...</td>\n",
       "    </tr>\n",
       "    <tr>\n",
       "      <th>...</th>\n",
       "      <td>...</td>\n",
       "      <td>...</td>\n",
       "      <td>...</td>\n",
       "      <td>...</td>\n",
       "      <td>...</td>\n",
       "      <td>...</td>\n",
       "    </tr>\n",
       "    <tr>\n",
       "      <th>196129</th>\n",
       "      <td>207287</td>\n",
       "      <td>225</td>\n",
       "      <td>kk</td>\n",
       "      <td>https://beta2.egov.kz/situations/225/618?lang=kk</td>\n",
       "      <td>қр президенті жанындағы мемлекеттік басқару ак...</td>\n",
       "      <td>қазақстан республикасы президенті жанындағы ме...</td>\n",
       "    </tr>\n",
       "    <tr>\n",
       "      <th>196130</th>\n",
       "      <td>207288</td>\n",
       "      <td>225</td>\n",
       "      <td>kk</td>\n",
       "      <td>https://beta2.egov.kz/situations/225/619?lang=kk</td>\n",
       "      <td>қр президенті жанындағы мемлекеттік басқару ак...</td>\n",
       "      <td>қазақстан республикасы президенті жанындағы ме...</td>\n",
       "    </tr>\n",
       "    <tr>\n",
       "      <th>196131</th>\n",
       "      <td>207289</td>\n",
       "      <td>225</td>\n",
       "      <td>kk</td>\n",
       "      <td>https://beta2.egov.kz/situations/225/621?lang=kk</td>\n",
       "      <td>қр президенті жанындағы мемлекеттік басқару ак...</td>\n",
       "      <td>қазақстан республикасы президенті жанындағы ме...</td>\n",
       "    </tr>\n",
       "    <tr>\n",
       "      <th>196132</th>\n",
       "      <td>207290</td>\n",
       "      <td>225</td>\n",
       "      <td>kk</td>\n",
       "      <td>https://beta2.egov.kz/situations/225/623?lang=kk</td>\n",
       "      <td>қр президенті жанындағы мемлекеттік басқару ак...</td>\n",
       "      <td>қазақстан республикасы президенті жанындағы ме...</td>\n",
       "    </tr>\n",
       "    <tr>\n",
       "      <th>196133</th>\n",
       "      <td>207291</td>\n",
       "      <td>225</td>\n",
       "      <td>kk</td>\n",
       "      <td>https://beta2.egov.kz/situations/225/622?lang=kk</td>\n",
       "      <td>қр президенті жанындағы мемлекеттік басқару ак...</td>\n",
       "      <td>қазақстан республикасы президенті жанындағы ме...</td>\n",
       "    </tr>\n",
       "  </tbody>\n",
       "</table>\n",
       "<p>195917 rows × 6 columns</p>\n",
       "</div>"
      ],
      "text/plain": [
       "        Unnamed: 0    id sys_lang  \\\n",
       "0                0  3087       en   \n",
       "1                1  3081       en   \n",
       "2                5  3263       en   \n",
       "3                6  3040       en   \n",
       "4                7  3759       en   \n",
       "...            ...   ...      ...   \n",
       "196129      207287   225       kk   \n",
       "196130      207288   225       kk   \n",
       "196131      207289   225       kk   \n",
       "196132      207290   225       kk   \n",
       "196133      207291   225       kk   \n",
       "\n",
       "                                                     url  \\\n",
       "0            https://beta2.egov.kz/services/3087?lang=en   \n",
       "1            https://beta2.egov.kz/services/3081?lang=en   \n",
       "2            https://beta2.egov.kz/services/3263?lang=en   \n",
       "3            https://beta2.egov.kz/services/3040?lang=en   \n",
       "4            https://beta2.egov.kz/services/3759?lang=en   \n",
       "...                                                  ...   \n",
       "196129  https://beta2.egov.kz/situations/225/618?lang=kk   \n",
       "196130  https://beta2.egov.kz/situations/225/619?lang=kk   \n",
       "196131  https://beta2.egov.kz/situations/225/621?lang=kk   \n",
       "196132  https://beta2.egov.kz/situations/225/623?lang=kk   \n",
       "196133  https://beta2.egov.kz/situations/225/622?lang=kk   \n",
       "\n",
       "                                                    text1  \\\n",
       "0       rules for providing state services dear citize...   \n",
       "1       rules for providing state services information...   \n",
       "2       rules for providing state services information...   \n",
       "3       rules for providing state services dear citize...   \n",
       "4       rules for providing state service what is temp...   \n",
       "...                                                   ...   \n",
       "196129  қр президенті жанындағы мемлекеттік басқару ак...   \n",
       "196130  қр президенті жанындағы мемлекеттік басқару ак...   \n",
       "196131  қр президенті жанындағы мемлекеттік басқару ак...   \n",
       "196132  қр президенті жанындағы мемлекеттік басқару ак...   \n",
       "196133  қр президенті жанындағы мемлекеттік басқару ак...   \n",
       "\n",
       "                                                    text2  \n",
       "0       issuance of passports, identification cards fo...  \n",
       "1       acceptance of documents for issuance of passpo...  \n",
       "2       obtaining a certificate on the status of the i...  \n",
       "3       removal from registration at the place of resi...  \n",
       "4       issuance of a list on temporary work incapacit...  \n",
       "...                                                   ...  \n",
       "196129  қазақстан республикасы президенті жанындағы ме...  \n",
       "196130  қазақстан республикасы президенті жанындағы ме...  \n",
       "196131  қазақстан республикасы президенті жанындағы ме...  \n",
       "196132  қазақстан республикасы президенті жанындағы ме...  \n",
       "196133  қазақстан республикасы президенті жанындағы ме...  \n",
       "\n",
       "[195917 rows x 6 columns]"
      ]
     },
     "execution_count": 4,
     "metadata": {},
     "output_type": "execute_result"
    }
   ],
   "source": [
    "df = df[df['sys_lang'].isin(['en', 'ru', 'kk', 'qq'])]\n",
    "df"
   ]
  },
  {
   "cell_type": "code",
   "execution_count": 5,
   "id": "898e111b",
   "metadata": {},
   "outputs": [],
   "source": [
    "if es.indices.exists(index='my_index'):\n",
    "    es.indices.delete(index='my_index')"
   ]
  },
  {
   "cell_type": "code",
   "execution_count": 6,
   "id": "97191241",
   "metadata": {},
   "outputs": [
    {
     "name": "stderr",
     "output_type": "stream",
     "text": [
      "/tmp/ipykernel_38557/1078699448.py:36: DeprecationWarning: The 'body' parameter is deprecated for the 'create' API and will be removed in a future version. Instead use API parameters directly. See https://github.com/elastic/elasticsearch-py/issues/1698 for more information\n",
      "  es.indices.create(index=\"my_index\", body=settings)\n"
     ]
    },
    {
     "data": {
      "text/plain": [
       "{'acknowledged': True, 'shards_acknowledged': True, 'index': 'my_index'}"
      ]
     },
     "execution_count": 6,
     "metadata": {},
     "output_type": "execute_result"
    }
   ],
   "source": [
    "# Define the settings and mappings for the index\n",
    "settings = {\n",
    "    \"settings\": {\n",
    "        \"analysis\": {\n",
    "            \"tokenizer\": {\n",
    "                \"custom_tokenizer\": {\n",
    "                    \"type\": \"standard\",\n",
    "                    \"max_token_length\": 30\n",
    "                }\n",
    "            },\n",
    "            \"analyzer\": {\n",
    "                \"custom_analyzer\": {\n",
    "                    \"type\": \"custom\",\n",
    "                    \"tokenizer\": \"custom_tokenizer\"\n",
    "                }\n",
    "            }\n",
    "        }\n",
    "    },\n",
    "    \"mappings\": {\n",
    "        \"properties\": {\n",
    "            \"text1\": {\n",
    "                \"type\": \"text\",\n",
    "                \"analyzer\": \"custom_analyzer\",\n",
    "                \"similarity\": \"BM25\"\n",
    "            },\n",
    "            \"text2\": {\n",
    "                \"type\": \"text\",\n",
    "                \"analyzer\": \"custom_analyzer\",\n",
    "                \"similarity\": \"BM25\"\n",
    "            }\n",
    "        }\n",
    "    }\n",
    "}\n",
    "\n",
    "# Create the index\n",
    "es.indices.create(index=\"my_index\", body=settings)"
   ]
  },
  {
   "cell_type": "code",
   "execution_count": 7,
   "id": "151254e0",
   "metadata": {},
   "outputs": [
    {
     "name": "stderr",
     "output_type": "stream",
     "text": [
      "100%|█████████████████████████████████| 195917/195917 [01:03<00:00, 3078.54it/s]\n"
     ]
    },
    {
     "data": {
      "text/plain": [
       "(195917, [])"
      ]
     },
     "execution_count": 7,
     "metadata": {},
     "output_type": "execute_result"
    }
   ],
   "source": [
    "def generate_bulk_data(df):\n",
    "    for index, row in tqdm(df.iterrows(), total=len(df)):\n",
    "        yield {\n",
    "            \"_op_type\": \"index\",\n",
    "            \"_index\": \"my_index\",\n",
    "            \"_id\": index,  # Use the DataFrame index as the Elasticsearch document ID\n",
    "            \"_source\": {\n",
    "                \"text1\": row['text1'],\n",
    "                \"text2\": row['text2']\n",
    "            }\n",
    "        }\n",
    "\n",
    "# Bulk indexing\n",
    "bulk(es, generate_bulk_data(df))"
   ]
  },
  {
   "cell_type": "code",
   "execution_count": 8,
   "id": "a7794a11",
   "metadata": {},
   "outputs": [],
   "source": [
    "def search(query):\n",
    "    search_body = {\n",
    "        \"query\": {\n",
    "            \"multi_match\": {\n",
    "                \"query\": query,\n",
    "                \"fields\": [\"text1\", \"text2\"]\n",
    "            }\n",
    "        }\n",
    "    }\n",
    "\n",
    "    response = es.search(index=\"my_index\", body=search_body)\n",
    "    res = response[\"hits\"][\"hits\"]\n",
    "    if len(res) == 0:\n",
    "        return 0\n",
    "    else:\n",
    "        return int(res[0]['_id'])\n",
    "    "
   ]
  },
  {
   "cell_type": "code",
   "execution_count": null,
   "id": "b6ebc19a",
   "metadata": {},
   "outputs": [],
   "source": []
  },
  {
   "cell_type": "code",
   "execution_count": null,
   "id": "85700b36",
   "metadata": {},
   "outputs": [],
   "source": [
    "epir_test = pd.read_csv('case1-datasaur/epir_test.csv')\n",
    "epir_test"
   ]
  },
  {
   "cell_type": "code",
   "execution_count": null,
   "id": "694dfa7b",
   "metadata": {},
   "outputs": [],
   "source": [
    "url_idxs = []\n",
    "\n",
    "for i, row in epir_test.iterrows():\n",
    "    df_idx = search(row['question'])\n",
    "    url_idxs.append(df.iloc[df_idx]['Unnamed: 0'].item())    \n"
   ]
  },
  {
   "cell_type": "code",
   "execution_count": null,
   "id": "b25c4d59",
   "metadata": {},
   "outputs": [],
   "source": [
    "res = pd.DataFrame({'id': epir_test['id'], 'index': url_idxs})\n",
    "res\n"
   ]
  },
  {
   "cell_type": "code",
   "execution_count": null,
   "id": "2730aa73",
   "metadata": {},
   "outputs": [],
   "source": [
    "res.to_csv('res.csv', index=None)"
   ]
  },
  {
   "cell_type": "code",
   "execution_count": null,
   "id": "aaca747f",
   "metadata": {},
   "outputs": [],
   "source": []
  },
  {
   "cell_type": "code",
   "execution_count": null,
   "id": "a6480bf7",
   "metadata": {},
   "outputs": [],
   "source": []
  },
  {
   "cell_type": "code",
   "execution_count": null,
   "id": "2983a105",
   "metadata": {},
   "outputs": [],
   "source": []
  },
  {
   "cell_type": "code",
   "execution_count": null,
   "id": "d719db1e",
   "metadata": {},
   "outputs": [],
   "source": []
  },
  {
   "cell_type": "code",
   "execution_count": null,
   "id": "3e355943",
   "metadata": {},
   "outputs": [],
   "source": []
  },
  {
   "cell_type": "code",
   "execution_count": null,
   "id": "0078003d",
   "metadata": {},
   "outputs": [],
   "source": []
  },
  {
   "cell_type": "code",
   "execution_count": null,
   "id": "d85428fe",
   "metadata": {},
   "outputs": [],
   "source": []
  },
  {
   "cell_type": "code",
   "execution_count": null,
   "id": "71f6addf",
   "metadata": {},
   "outputs": [],
   "source": []
  }
 ],
 "metadata": {
  "kernelspec": {
   "display_name": "Python 3 (ipykernel)",
   "language": "python",
   "name": "python3"
  },
  "language_info": {
   "codemirror_mode": {
    "name": "ipython",
    "version": 3
   },
   "file_extension": ".py",
   "mimetype": "text/x-python",
   "name": "python",
   "nbconvert_exporter": "python",
   "pygments_lexer": "ipython3",
   "version": "3.10.12"
  }
 },
 "nbformat": 4,
 "nbformat_minor": 5
}
